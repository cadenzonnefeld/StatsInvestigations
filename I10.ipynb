{
 "cells": [
  {
   "cell_type": "markdown",
   "metadata": {},
   "source": [
    "# Investigation 10"
   ]
  },
  {
   "cell_type": "markdown",
   "metadata": {},
   "source": [
    "### New Methods"
   ]
  },
  {
   "cell_type": "markdown",
   "metadata": {},
   "source": [
    "To complete the following instructions, you will need these commands: **read.table**, **plot**, **lm**, **abline**\n",
    "\n",
    "    • plot: Similar to boxplot, the command plot helps you visualize relationships between the data. This creates a scatterplot between two quantitative variables.\n",
    "        • If a dataframe data has just two variables in it, you can use: plot(data)\n",
    "        • If the dataframe data has variables var1 and var2 that you want to see a scatterplot for,\n",
    "        you can use: plot(data$var1 ∼ data$var2) and var1 will appear on the y-axis, var2 will appear on the \n",
    "        x-axis.\n",
    "        \n",
    "    • lm: The command lm creates a linear model between two (or more) variables. R computes a lot of information when lm is called, so it is helpful to store the output into a new variable. To use the command with a response variable of response and an explanatory variable of explanatory, use: fit <- lm(response ∼ explanatory) You can then see the output by looking at a summary of the model, using: summary(fit) In the summary, you will see a table that looks like this:\n",
    "        Call:\n",
    "        lm(formula = ageBMI$bmi ~ ageBMI$Age)\n",
    "        \n",
    "        Residuals:\n",
    "        Min 1Q Median 3Q Max -16.5635 -8.3617 -0.9447 7.2788 22.6436\n",
    "        \n",
    "        Coefficients:\n",
    "        Estimate Std. Error t value Pr(>|t|)\n",
    "        (Intercept) 23.2105 6.5086 3.566 0.00102 **\n",
    "        ageBMI$Age 0.3012 0.1621 1.858 0.07119 .\n",
    "        ---\n",
    "        Signif. codes: 0 *** 0.001 ** 0.01 * 0.05 . 0.1 1\n",
    "        \n",
    "        Residual standard error: 9.745 on 37 degrees of freedom\n",
    "        Multiple R-squared: 0.08531,Adjusted R-squared: 0.06059\n",
    "        F-statistic: 3.451 on 1 and 37 DF, p-value: 0.07119\n",
    "        \n",
    "        The Estimate for both the (Intercept) and the explanatory variable give the coefficients for the \n",
    "        linear regression. In this case, the regression equation is: bmi = 23.2105 + 0.3012 · Age\n",
    "        \n",
    "        Finally, you can see if regression line is a good fit by looking at the significance given by the\n",
    "        p-value. This shows up in two places in the summary, under the last column labeled Pr(>|t|), and after\n",
    "        the F-statistic at the end. You will find this same value if you perform an ANOVA test on the linear\n",
    "        model. In this example, Age is not a significant predictor for bmi, since the p-value is 0.07119.\n",
    "        \n",
    "    • abline: You can add a regression line to a scatterplot using abline. In particular, if you have the\n",
    "    linear model stored in fit, and the last plot you have made is the scatterplot (using plot), you can use:\n",
    "    abline(coef = fit$coefficients)"
   ]
  },
  {
   "cell_type": "markdown",
   "metadata": {},
   "source": [
    "### Instructions"
   ]
  },
  {
   "cell_type": "markdown",
   "metadata": {},
   "source": [
    "Run the following command to load the data into R."
   ]
  },
  {
   "cell_type": "code",
   "execution_count": null,
   "metadata": {},
   "outputs": [],
   "source": [
    "handspan <- read.table(\"http://www.isi-stats.com/isi/data/chap10/HandSpan.txt\", header = TRUE)"
   ]
  },
  {
   "cell_type": "markdown",
   "metadata": {},
   "source": [
    "Visualize your data by creating a scatterplot of the data. Run the following command and make sure to include this picture in your submission."
   ]
  },
  {
   "cell_type": "code",
   "execution_count": null,
   "metadata": {},
   "outputs": [],
   "source": [
    "plot(TootsieRolls ~ HandSpan, data = handspan, xlab = \"Hand Span\", ylab = \"Tootsie Rolls\",\n",
    "     main = \"Scatterplot of HandSpan and Tootsie Rolls Relationship\")"
   ]
  },
  {
   "cell_type": "markdown",
   "metadata": {},
   "source": [
    "Use **lm** to create a linear model to predict the number of Tootsie Rolls based on hand span with the next command. Write down the equation of the regression line on your assignment."
   ]
  },
  {
   "cell_type": "code",
   "execution_count": null,
   "metadata": {},
   "outputs": [],
   "source": [
    "tootsieModel <- lm(TootsieRolls ~ HandSpan, data = handspan)\n",
    "summary(tootsieModel)"
   ]
  },
  {
   "cell_type": "markdown",
   "metadata": {},
   "source": [
    "Use the summary of the linear model to determine if hand span significantly predicts the number of Tootsie Rolls. What is the p-value?"
   ]
  },
  {
   "cell_type": "markdown",
   "metadata": {},
   "source": [
    "Add the regression line to your scatterplot with the **abline** command. Include the picture with your submission."
   ]
  },
  {
   "cell_type": "code",
   "execution_count": null,
   "metadata": {},
   "outputs": [],
   "source": [
    "plot(TootsieRolls ~ HandSpan, data = handspan, xlab = \"Hand Span\", ylab = \"Tootsie Rolls\",\n",
    "     main = \"Scatterplot of HandSpan and Tootsie Rolls Relationship\")\n",
    "abline(tootsieModel)"
   ]
  }
 ],
 "metadata": {
  "kernelspec": {
   "display_name": "R",
   "language": "R",
   "name": "ir"
  },
  "language_info": {
   "codemirror_mode": "r",
   "file_extension": ".r",
   "mimetype": "text/x-r-source",
   "name": "R",
   "pygments_lexer": "r",
   "version": "3.6.1"
  }
 },
 "nbformat": 4,
 "nbformat_minor": 4
}
