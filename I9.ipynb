{
 "cells": [
  {
   "cell_type": "markdown",
   "metadata": {},
   "source": [
    "# Investigation 9"
   ]
  },
  {
   "cell_type": "markdown",
   "metadata": {},
   "source": [
    "### New Methods"
   ]
  },
  {
   "cell_type": "markdown",
   "metadata": {},
   "source": [
    "To complete the following instructions, you will need these commands: **read.table**, **boxplot**, **describeBy**, **anova**, **pairwiseCI**\n",
    "\n",
    "Two of these commands (namely **describeBy** and **pairwiseCI**) come from packages, which are add-ons to R that allow the program to do things in a more convenient manner. A lot of great packages have been developed for R, and chances are if you are trying to do something statistical, there is a package designed specifically for that purpose. To use the commands we need, you will need to install the psych and pairwiseCI packages.\n",
    "\n",
    "    • describeBy: This command allows you to view statistics separated by group and can be found in the psych.\n",
    "    In particular, you will be able to find the mean, standard deviation, max, min, and median of a variable\n",
    "    inside each group. To use the com- mand with a response variable of response and an explanatory (group)\n",
    "    variable of explanatory, use: describeBy(response, explanatory)\n",
    "*Note:* You can get access to the variables by using a dollar sign (\\\\$). So, for example, if your data is stored in **mydata**, and it includes variables group and score, then you can access just the scores by using: **mydata\\\\$score**\n",
    "\n",
    "    • anova: The ANOVA test gives information about how different the variable is among the groups. For our\n",
    "    purposes, it gives a significance level (p-value, denoted Pr(>F)) and a standardized statistic (F value)\n",
    "    that at least one of the groups is different. If you have a response variable of response and an\n",
    "    explanatory (group) variable of explanatory, use: anova(lm(response ∼ explanatory))\n",
    "    \n",
    "    • pairwiseCI: Once you find that the p-value is small enough, you know at least one of the groups is\n",
    "    different. The pairwiseCI package is perfect for this. To find out which one, you can compare them two\n",
    "    at a time to see if they are significantly different (using a standard t-test on two groups). If the data\n",
    "    is in mydata, with a response variable of response and an explanatory variable of explanatory, then the\n",
    "    command to display the pairwise confidence intervals is: pairwiseCI(response ∼ explanatory, data=mydata)\n",
    "    \n",
    "        • You can also plot the confidence intervals by placing a plot command first:\n",
    "        plot(pairwiseCI(response ∼ explanatory, data=mydata))"
   ]
  },
  {
   "cell_type": "markdown",
   "metadata": {},
   "source": [
    "### Installing and Using Packages"
   ]
  },
  {
   "cell_type": "markdown",
   "metadata": {},
   "source": [
    "To include package **PACKAGE-NAME** into R, you can use the command: **library(\"PACKAGE-NAME\")**\n",
    "\n",
    "If the package is already installed on your machine, this should work perfectly. However, if the package is not preloaded into RStudio or it has not been installed yet, you will see an error.\n",
    "\n",
    "If you know the name of the package, you can use the command: **install.packages(\"PACKAGE-NAME\")** followed by the **library** command to load the package into R."
   ]
  },
  {
   "cell_type": "markdown",
   "metadata": {},
   "source": [
    "### Instructions"
   ]
  },
  {
   "cell_type": "markdown",
   "metadata": {},
   "source": [
    "Install the **psych** and **pairwiseCI** packages in R using the following command."
   ]
  },
  {
   "cell_type": "code",
   "execution_count": null,
   "metadata": {},
   "outputs": [],
   "source": [
    "install.packages(\"pairwiseCI\")\n",
    "install.packages(\"psych\")"
   ]
  },
  {
   "cell_type": "markdown",
   "metadata": {},
   "source": [
    "After this, load the packages into R using the next command."
   ]
  },
  {
   "cell_type": "code",
   "execution_count": null,
   "metadata": {},
   "outputs": [],
   "source": [
    "library(\"pairwiseCI\")\n",
    "library(\"psych\")"
   ]
  },
  {
   "cell_type": "markdown",
   "metadata": {},
   "source": [
    "Load the data into R using the following command."
   ]
  },
  {
   "cell_type": "code",
   "execution_count": null,
   "metadata": {},
   "outputs": [],
   "source": [
    "aggression <- read.table(\"http://www.isi-stats.com/isi/data/chap9/Aggression.txt\", header=TRUE)"
   ]
  },
  {
   "cell_type": "markdown",
   "metadata": {},
   "source": [
    "Visualize your data by creating a boxplot of the data separated by groups. Include this picture in your submission."
   ]
  },
  {
   "cell_type": "code",
   "execution_count": null,
   "metadata": {},
   "outputs": [],
   "source": [
    "boxplot(aggression$score~aggression$group, main = \"Boxplot of Aggresion Score by Group\", xlab = \"Group\", ylab = \"Score\")"
   ]
  },
  {
   "cell_type": "markdown",
   "metadata": {},
   "source": [
    "Describe the data (using **describeBy**) to look at the means and standard deviations and make sure they match the given information."
   ]
  },
  {
   "cell_type": "code",
   "execution_count": null,
   "metadata": {},
   "outputs": [],
   "source": [
    "describeBy(aggression$score, aggression$group)"
   ]
  },
  {
   "cell_type": "markdown",
   "metadata": {},
   "source": [
    "Use the preceding information to guess which of the groups are the same, and which are different (if any)."
   ]
  },
  {
   "cell_type": "markdown",
   "metadata": {},
   "source": [
    "Run an ANOVA test and interpret the results, particularly the *p*-value and the *F*-statistic."
   ]
  },
  {
   "cell_type": "markdown",
   "metadata": {},
   "source": [
    "If the *p*-value is small enough, then at least one of the groups is different. To find out which one, perform a follow-up analysis by computing and interpreting the pairwise confidence intervals. Include your plot in your submission."
   ]
  },
  {
   "cell_type": "code",
   "execution_count": null,
   "metadata": {},
   "outputs": [],
   "source": [
    "plot(pairwiseCI(score~group, data = aggression), main = \"Pairwise Confidence Interval Plot\")"
   ]
  }
 ],
 "metadata": {
  "kernelspec": {
   "display_name": "R",
   "language": "R",
   "name": "ir"
  },
  "language_info": {
   "codemirror_mode": "r",
   "file_extension": ".r",
   "mimetype": "text/x-r-source",
   "name": "R",
   "pygments_lexer": "r",
   "version": "3.6.1"
  }
 },
 "nbformat": 4,
 "nbformat_minor": 4
}
