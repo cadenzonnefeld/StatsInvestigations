{
 "cells": [
  {
   "cell_type": "markdown",
   "metadata": {},
   "source": [
    "# Investigation 6"
   ]
  },
  {
   "cell_type": "markdown",
   "metadata": {},
   "source": [
    "To complete the following instructions, you will need these commands: read.table, boxplot, head, and t.test\n",
    "\n",
    "Some instructions for how to use the commands follows below.\n",
    "\n",
    "    • read.table: This command stores a set of data as a table. The general formula is:\n",
    "    TableName = read.table(\"website address\", header = TRUE)\n",
    "    \n",
    "    • boxplot: This command makes a boxplot given a table of data. The general formula\n",
    "    is: boxplot(Variable1∼Variable2, data = TableName)\n",
    "    \n",
    "    • t.test: This command runs the statistical test and outputs the p-value. The general\n",
    "    formula is: t.test(Variable1∼Variable2, data = TableName)"
   ]
  },
  {
   "cell_type": "markdown",
   "metadata": {},
   "source": [
    "Running the following code snippet will create a data frame that includes the data accessed from the Introduction to Statistical Investigations website for Investigation 6."
   ]
  },
  {
   "cell_type": "code",
   "execution_count": null,
   "metadata": {},
   "outputs": [],
   "source": [
    "I6data = read.table(\"http://www.isi-stats.com/isi/data/chap6/Chap6%20Investigation.txt\", header = TRUE)"
   ]
  },
  {
   "cell_type": "markdown",
   "metadata": {},
   "source": [
    "Typing **I6data** into the command line will display the imported data."
   ]
  },
  {
   "cell_type": "code",
   "execution_count": null,
   "metadata": {},
   "outputs": [],
   "source": [
    "I6data"
   ]
  },
  {
   "cell_type": "markdown",
   "metadata": {},
   "source": [
    "The command **head(I6data)** will display the first few lines of the dataframe. Run this command and either include a screen grab or copy and paste the output."
   ]
  },
  {
   "cell_type": "code",
   "execution_count": null,
   "metadata": {},
   "outputs": [],
   "source": [
    "head(I6data)"
   ]
  },
  {
   "cell_type": "markdown",
   "metadata": {},
   "source": [
    "In *STEP 3: Explore the Data*, you used the applet to look at the mean and standard deviation of the two groups. To do this in R, run the command **boxplot(Memorized~Words, data=I6data)** to create a basic boxplot."
   ]
  },
  {
   "cell_type": "code",
   "execution_count": null,
   "metadata": {},
   "outputs": [],
   "source": [
    "boxplot(Memorized~Words, data=I6data)"
   ]
  },
  {
   "cell_type": "markdown",
   "metadata": {},
   "source": [
    "Labels can be added to the boxplot for the main, x-axis, and y-axis. Add your name (i.e. John Doe) in the following code snippet in place of **[Your Name]** to include your name in the boxplot title. Include a screen capture of this plot (with your name in the title) in your assignment submission."
   ]
  },
  {
   "cell_type": "code",
   "execution_count": null,
   "metadata": {},
   "outputs": [],
   "source": [
    "boxplot(I6data$Memorized~I6data$Words, main = \"[Your Name]'s Boxplot\", ylab=\"Words Memorized\", xlab=\"Words\")"
   ]
  },
  {
   "cell_type": "markdown",
   "metadata": {},
   "source": [
    "In *STEP 4: Draw Inferences*, you used a simulation approach to find a p-value for the hypothesis test. In question 15, this was repeated using a theory-based approach. To do a theory-based approach using R, run the following command. Make sure to copy and paste or include a screen grab of the output."
   ]
  },
  {
   "cell_type": "code",
   "execution_count": null,
   "metadata": {},
   "outputs": [],
   "source": [
    "t.test(Memorized~Words, data = I6data)"
   ]
  },
  {
   "cell_type": "markdown",
   "metadata": {},
   "source": [
    "Did you get the same results as what you found in questions 8 and 10? Why or why not?"
   ]
  },
  {
   "cell_type": "code",
   "execution_count": null,
   "metadata": {},
   "outputs": [],
   "source": []
  }
 ],
 "metadata": {
  "kernelspec": {
   "display_name": "R",
   "language": "R",
   "name": "ir"
  },
  "language_info": {
   "codemirror_mode": "r",
   "file_extension": ".r",
   "mimetype": "text/x-r-source",
   "name": "R",
   "pygments_lexer": "r",
   "version": "3.6.1"
  }
 },
 "nbformat": 4,
 "nbformat_minor": 4
}
