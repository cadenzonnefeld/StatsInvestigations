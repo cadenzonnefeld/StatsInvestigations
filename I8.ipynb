{
 "cells": [
  {
   "cell_type": "markdown",
   "metadata": {},
   "source": [
    "# Investigation 8"
   ]
  },
  {
   "cell_type": "markdown",
   "metadata": {},
   "source": [
    "### New Methods"
   ]
  },
  {
   "cell_type": "markdown",
   "metadata": {},
   "source": [
    "To complete the following instructions, you will need these commands: **c**, **matrix**, **rownames**, **colnames**, **as.table**, **chisq.test**, **prop.test**\n",
    "\n",
    "To do a chi-square test in R, you need to have the data entered as a two-way table, which in this case you will construct directly. This skill will be helpful in the future if you ever want to do a chi-square test for any other data set; converting the raw data to a table will be easy.\n",
    "\n",
    "    • c: This command makes a column of data. So c(1,2,3) or c(\"yes\", \"no\") will put that list into a data column  that R understands.\n",
    "    \n",
    "    • matrix: This command converts a list of numbers into a matrix of numbers. For example a column of 15 numbers could be made into a 3 × 5 matrix of numbers. The command needs a column of data, the number of desired columns, and byrow=TRUE tells it to fill the data in from left to right on the rows; setting this to “FALSE” would fill it down the columns. The <- stores the matrix by that name.\n",
    "           \n",
    "            For example: MyMatrix <- matrix(c(1,2,3,4,5,6,7,8), ncol = 4, byrow = TRUE)\n",
    "        \n",
    "    • rownames: This command allows you to name the rows in your table, with a column\n",
    "    of names\n",
    "            For example: rownames(MyMatrix) <- c(\"row1\", \"row2\")\n",
    "    \n",
    "    • colnames: This command allows you to name the columns in your table, with a\n",
    "    column of names\n",
    "            For example: colnames(MyMatrix) <- c(1,2,3,4)\n",
    "    \n",
    "    • as.table Finally, you can store the matrix of data as a table with row and column\n",
    "    names\n",
    "            For example: MyTable <- as.table(MyMatrix)\n",
    "    \n",
    "    • chisq.test: If you want to run a chi-square test, you simply run the command on\n",
    "    the MyTable that you’ve created\n",
    "            For example: chisq.test(MyTable)\n",
    "    \n",
    "    • prop.test: If you want to compare two proportions with a confidence interval you give a column of data for the successes and the totals. Consider one column with 15 success out of 45 and another column with 20 successes out of 40 attempts then you would use: prop.test(c(15, 20), c(45,40))"
   ]
  },
  {
   "cell_type": "markdown",
   "metadata": {},
   "source": [
    "### Instructions"
   ]
  },
  {
   "cell_type": "markdown",
   "metadata": {},
   "source": [
    "First you will need to build the two-way table into R. The data is in the table on page 473 in the investigation. Use the functions described above, first using matrix to put the 10 counts into a 2 × 5 matrix called yield. Running the following command will create the **yield** matrix."
   ]
  },
  {
   "cell_type": "code",
   "execution_count": null,
   "metadata": {},
   "outputs": [],
   "source": [
    "yield <- matrix(c(5,20,41,25,7,0,8,20,20,6), ncol = 5, byrow = TRUE)"
   ]
  },
  {
   "cell_type": "markdown",
   "metadata": {},
   "source": [
    "Then add the row and column names to the matrix."
   ]
  },
  {
   "cell_type": "code",
   "execution_count": null,
   "metadata": {},
   "outputs": [],
   "source": [
    "rownames(yield) <- c(\"Did yield\", \"Didn't yield\")\n",
    "colnames(yield) <- c(1,2,3,4,5)"
   ]
  },
  {
   "cell_type": "markdown",
   "metadata": {},
   "source": [
    "Convert the matrix to a table called **yieldtable** using **as.table**."
   ]
  },
  {
   "cell_type": "code",
   "execution_count": null,
   "metadata": {},
   "outputs": [],
   "source": [
    "yieldtable <- as.table(yield)"
   ]
  },
  {
   "cell_type": "markdown",
   "metadata": {},
   "source": [
    "Confirm that the table was formed correctly by running the following command."
   ]
  },
  {
   "cell_type": "code",
   "execution_count": null,
   "metadata": {},
   "outputs": [],
   "source": [
    "yieldtable"
   ]
  },
  {
   "cell_type": "markdown",
   "metadata": {},
   "source": [
    "Use **chisq.test** to complete a chi-square test on **yieldtable**, this can be done by running the next command."
   ]
  },
  {
   "cell_type": "code",
   "execution_count": null,
   "metadata": {},
   "outputs": [],
   "source": [
    "chisq.test(yieldtable)"
   ]
  },
  {
   "cell_type": "markdown",
   "metadata": {},
   "source": [
    "What p-value does it give? How does this compare to your previous work? (Include a screencapture or copy and paste the results of the test from R.)"
   ]
  },
  {
   "cell_type": "markdown",
   "metadata": {},
   "source": [
    "Did R give you a warning message? Is there something about the validity conditions for the chi-square test that is prompting this? How does this affect any conclusions you might draw from the data?"
   ]
  },
  {
   "cell_type": "markdown",
   "metadata": {},
   "source": [
    "Let’s suppose there were only three “Status” classifications instead of five. Assume that 1 and 2 are combined, and 4 and 5 are combined. So you have only three columns called 1, 3, and 5. How would this affect the validity conditions for a chi-square test?"
   ]
  },
  {
   "cell_type": "markdown",
   "metadata": {},
   "source": [
    "Make a new matrix (call it yield2) and table (call it yieldtable2) as above with only the 6 data points as a 2×3 table. Then rerun the chi-square test."
   ]
  },
  {
   "cell_type": "code",
   "execution_count": null,
   "metadata": {},
   "outputs": [],
   "source": [
    "yield2 <- matrix(c(25, 41, 32, 8, 20, 26), ncol = 3, byrow = TRUE)\n",
    "yieldtable2 <- as.table(yield2)\n",
    "chisq.test(yieldtable2)"
   ]
  },
  {
   "cell_type": "markdown",
   "metadata": {},
   "source": [
    "Do you still get a warning? How does the p-value change? Would you follow up with pairwise confidence intervals if α = 0.05? (Include a screencapture or copy and paste the results of the test from R.)"
   ]
  },
  {
   "cell_type": "markdown",
   "metadata": {},
   "source": [
    "Regardless of whether they are significant or not, let’s make a confidence interval for the difference in proportions who yield to pedestrians between the 2 and 5 groups in the original data. Use **prop.test**, report the confidence interval, and interpret it in context."
   ]
  },
  {
   "cell_type": "code",
   "execution_count": null,
   "metadata": {},
   "outputs": [],
   "source": [
    "prop.test(c(20,7),c(28,13))"
   ]
  }
 ],
 "metadata": {
  "kernelspec": {
   "display_name": "R",
   "language": "R",
   "name": "ir"
  },
  "language_info": {
   "codemirror_mode": "r",
   "file_extension": ".r",
   "mimetype": "text/x-r-source",
   "name": "R",
   "pygments_lexer": "r",
   "version": "3.6.1"
  }
 },
 "nbformat": 4,
 "nbformat_minor": 4
}
